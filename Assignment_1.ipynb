{
  "cells": [
    {
      "cell_type": "markdown",
      "id": "ab719543",
      "metadata": {
        "id": "ab719543"
      },
      "source": [
        "# **Take different kernals on dataset and tabulate the accuracy"
      ]
    },
    {
      "cell_type": "code",
      "execution_count": null,
      "id": "b1908e1d",
      "metadata": {
        "scrolled": true,
        "id": "b1908e1d",
        "outputId": "61be195a-9991-4e3a-f7f8-6462fccea8fa"
      },
      "outputs": [
        {
          "data": {
            "text/html": [
              "<div>\n",
              "<style scoped>\n",
              "    .dataframe tbody tr th:only-of-type {\n",
              "        vertical-align: middle;\n",
              "    }\n",
              "\n",
              "    .dataframe tbody tr th {\n",
              "        vertical-align: top;\n",
              "    }\n",
              "\n",
              "    .dataframe thead th {\n",
              "        text-align: right;\n",
              "    }\n",
              "</style>\n",
              "<table border=\"1\" class=\"dataframe\">\n",
              "  <thead>\n",
              "    <tr style=\"text-align: right;\">\n",
              "      <th></th>\n",
              "      <th>age</th>\n",
              "      <th>gender</th>\n",
              "      <th>height_cm</th>\n",
              "      <th>weight_kg</th>\n",
              "      <th>body fat_%</th>\n",
              "      <th>diastolic</th>\n",
              "      <th>systolic</th>\n",
              "      <th>gripForce</th>\n",
              "      <th>sit and bend forward_cm</th>\n",
              "      <th>sit-ups counts</th>\n",
              "      <th>broad jump_cm</th>\n",
              "      <th>class</th>\n",
              "    </tr>\n",
              "  </thead>\n",
              "  <tbody>\n",
              "    <tr>\n",
              "      <th>0</th>\n",
              "      <td>27.0</td>\n",
              "      <td>M</td>\n",
              "      <td>172.3</td>\n",
              "      <td>75.24</td>\n",
              "      <td>21.3</td>\n",
              "      <td>80.0</td>\n",
              "      <td>130.0</td>\n",
              "      <td>54.9</td>\n",
              "      <td>18.4</td>\n",
              "      <td>60.0</td>\n",
              "      <td>217.0</td>\n",
              "      <td>C</td>\n",
              "    </tr>\n",
              "    <tr>\n",
              "      <th>1</th>\n",
              "      <td>25.0</td>\n",
              "      <td>M</td>\n",
              "      <td>165.0</td>\n",
              "      <td>55.80</td>\n",
              "      <td>15.7</td>\n",
              "      <td>77.0</td>\n",
              "      <td>126.0</td>\n",
              "      <td>36.4</td>\n",
              "      <td>16.3</td>\n",
              "      <td>53.0</td>\n",
              "      <td>229.0</td>\n",
              "      <td>A</td>\n",
              "    </tr>\n",
              "    <tr>\n",
              "      <th>2</th>\n",
              "      <td>31.0</td>\n",
              "      <td>M</td>\n",
              "      <td>179.6</td>\n",
              "      <td>78.00</td>\n",
              "      <td>20.1</td>\n",
              "      <td>92.0</td>\n",
              "      <td>152.0</td>\n",
              "      <td>44.8</td>\n",
              "      <td>12.0</td>\n",
              "      <td>49.0</td>\n",
              "      <td>181.0</td>\n",
              "      <td>C</td>\n",
              "    </tr>\n",
              "    <tr>\n",
              "      <th>3</th>\n",
              "      <td>32.0</td>\n",
              "      <td>M</td>\n",
              "      <td>174.5</td>\n",
              "      <td>71.10</td>\n",
              "      <td>18.4</td>\n",
              "      <td>76.0</td>\n",
              "      <td>147.0</td>\n",
              "      <td>41.4</td>\n",
              "      <td>15.2</td>\n",
              "      <td>53.0</td>\n",
              "      <td>219.0</td>\n",
              "      <td>B</td>\n",
              "    </tr>\n",
              "    <tr>\n",
              "      <th>4</th>\n",
              "      <td>28.0</td>\n",
              "      <td>M</td>\n",
              "      <td>173.8</td>\n",
              "      <td>67.70</td>\n",
              "      <td>17.1</td>\n",
              "      <td>70.0</td>\n",
              "      <td>127.0</td>\n",
              "      <td>43.5</td>\n",
              "      <td>27.1</td>\n",
              "      <td>45.0</td>\n",
              "      <td>217.0</td>\n",
              "      <td>B</td>\n",
              "    </tr>\n",
              "  </tbody>\n",
              "</table>\n",
              "</div>"
            ],
            "text/plain": [
              "    age gender  height_cm  weight_kg  body fat_%  diastolic  systolic  \\\n",
              "0  27.0      M      172.3      75.24        21.3       80.0     130.0   \n",
              "1  25.0      M      165.0      55.80        15.7       77.0     126.0   \n",
              "2  31.0      M      179.6      78.00        20.1       92.0     152.0   \n",
              "3  32.0      M      174.5      71.10        18.4       76.0     147.0   \n",
              "4  28.0      M      173.8      67.70        17.1       70.0     127.0   \n",
              "\n",
              "   gripForce  sit and bend forward_cm  sit-ups counts  broad jump_cm class  \n",
              "0       54.9                     18.4            60.0          217.0     C  \n",
              "1       36.4                     16.3            53.0          229.0     A  \n",
              "2       44.8                     12.0            49.0          181.0     C  \n",
              "3       41.4                     15.2            53.0          219.0     B  \n",
              "4       43.5                     27.1            45.0          217.0     B  "
            ]
          },
          "execution_count": 23,
          "metadata": {},
          "output_type": "execute_result"
        }
      ],
      "source": [
        "import pandas as pd\n",
        "\n",
        "dt = pd.read_csv('bodyPerformance.csv')\n",
        "dt.head()"
      ]
    },
    {
      "cell_type": "code",
      "execution_count": null,
      "id": "51c33d5a",
      "metadata": {
        "id": "51c33d5a",
        "outputId": "76fdcb40-8889-49dd-adc1-1eb70d6ab5b9"
      },
      "outputs": [
        {
          "data": {
            "text/plain": [
              "Index(['age', 'gender', 'height_cm', 'weight_kg', 'body fat_%', 'diastolic',\n",
              "       'systolic', 'gripForce', 'sit and bend forward_cm', 'sit-ups counts',\n",
              "       'broad jump_cm', 'class'],\n",
              "      dtype='object')"
            ]
          },
          "execution_count": 27,
          "metadata": {},
          "output_type": "execute_result"
        }
      ],
      "source": [
        "dt.columns\n"
      ]
    },
    {
      "cell_type": "code",
      "execution_count": null,
      "id": "2b7319ad",
      "metadata": {
        "id": "2b7319ad",
        "outputId": "77b720d8-6382-47f8-9376-b00cbd5efcf3"
      },
      "outputs": [
        {
          "data": {
            "text/plain": [
              "array(['C', 'A', 'B', 'D'], dtype=object)"
            ]
          },
          "execution_count": 33,
          "metadata": {},
          "output_type": "execute_result"
        }
      ],
      "source": [
        "dt['class'].unique()"
      ]
    },
    {
      "cell_type": "code",
      "execution_count": null,
      "id": "344edb30",
      "metadata": {
        "id": "344edb30"
      },
      "outputs": [],
      "source": [
        "dt.rename(columns={'class': 'CLASS'}, inplace=True)"
      ]
    },
    {
      "cell_type": "code",
      "execution_count": null,
      "id": "901e9478",
      "metadata": {
        "id": "901e9478",
        "outputId": "ca37d13c-2835-4700-d4b6-87ed2fd01d96"
      },
      "outputs": [
        {
          "name": "stderr",
          "output_type": "stream",
          "text": [
            "<ipython-input-35-4073a5e87567>:1: SettingWithCopyWarning: \n",
            "A value is trying to be set on a copy of a slice from a DataFrame\n",
            "\n",
            "See the caveats in the documentation: https://pandas.pydata.org/pandas-docs/stable/user_guide/indexing.html#returning-a-view-versus-a-copy\n",
            "  dt.gender[dt.gender == 'M'] = 0\n",
            "<ipython-input-35-4073a5e87567>:2: SettingWithCopyWarning: \n",
            "A value is trying to be set on a copy of a slice from a DataFrame\n",
            "\n",
            "See the caveats in the documentation: https://pandas.pydata.org/pandas-docs/stable/user_guide/indexing.html#returning-a-view-versus-a-copy\n",
            "  dt.gender[dt.gender == 'F'] = 1\n"
          ]
        }
      ],
      "source": [
        "dt.gender[dt.gender == 'M'] = 0\n",
        "dt.gender[dt.gender == 'F'] = 1"
      ]
    },
    {
      "cell_type": "code",
      "execution_count": null,
      "id": "18435c2a",
      "metadata": {
        "id": "18435c2a",
        "outputId": "58e3ba77-bfd4-41a9-a8a8-db5e6eb5b001"
      },
      "outputs": [
        {
          "name": "stderr",
          "output_type": "stream",
          "text": [
            "<ipython-input-37-93653c6942b7>:1: SettingWithCopyWarning: \n",
            "A value is trying to be set on a copy of a slice from a DataFrame\n",
            "\n",
            "See the caveats in the documentation: https://pandas.pydata.org/pandas-docs/stable/user_guide/indexing.html#returning-a-view-versus-a-copy\n",
            "  dt.CLASS[dt.CLASS == 'A'] = 1\n",
            "<ipython-input-37-93653c6942b7>:2: SettingWithCopyWarning: \n",
            "A value is trying to be set on a copy of a slice from a DataFrame\n",
            "\n",
            "See the caveats in the documentation: https://pandas.pydata.org/pandas-docs/stable/user_guide/indexing.html#returning-a-view-versus-a-copy\n",
            "  dt.CLASS[dt.CLASS == 'B'] = 2\n",
            "<ipython-input-37-93653c6942b7>:3: SettingWithCopyWarning: \n",
            "A value is trying to be set on a copy of a slice from a DataFrame\n",
            "\n",
            "See the caveats in the documentation: https://pandas.pydata.org/pandas-docs/stable/user_guide/indexing.html#returning-a-view-versus-a-copy\n",
            "  dt.CLASS[dt.CLASS == 'C'] = 3\n",
            "<ipython-input-37-93653c6942b7>:4: SettingWithCopyWarning: \n",
            "A value is trying to be set on a copy of a slice from a DataFrame\n",
            "\n",
            "See the caveats in the documentation: https://pandas.pydata.org/pandas-docs/stable/user_guide/indexing.html#returning-a-view-versus-a-copy\n",
            "  dt.CLASS[dt.CLASS == 'D'] = 4\n"
          ]
        }
      ],
      "source": [
        "dt.CLASS[dt.CLASS == 'A'] = 1\n",
        "dt.CLASS[dt.CLASS == 'B'] = 2\n",
        "dt.CLASS[dt.CLASS == 'C'] = 3\n",
        "dt.CLASS[dt.CLASS == 'D'] = 4\n"
      ]
    },
    {
      "cell_type": "code",
      "execution_count": null,
      "id": "44b15e7a",
      "metadata": {
        "id": "44b15e7a",
        "outputId": "ef7d6c66-2b0d-40dc-94cf-f35ec8c40aff"
      },
      "outputs": [
        {
          "data": {
            "text/html": [
              "<div>\n",
              "<style scoped>\n",
              "    .dataframe tbody tr th:only-of-type {\n",
              "        vertical-align: middle;\n",
              "    }\n",
              "\n",
              "    .dataframe tbody tr th {\n",
              "        vertical-align: top;\n",
              "    }\n",
              "\n",
              "    .dataframe thead th {\n",
              "        text-align: right;\n",
              "    }\n",
              "</style>\n",
              "<table border=\"1\" class=\"dataframe\">\n",
              "  <thead>\n",
              "    <tr style=\"text-align: right;\">\n",
              "      <th></th>\n",
              "      <th>age</th>\n",
              "      <th>gender</th>\n",
              "      <th>height_cm</th>\n",
              "      <th>weight_kg</th>\n",
              "      <th>body fat_%</th>\n",
              "      <th>diastolic</th>\n",
              "      <th>systolic</th>\n",
              "      <th>gripForce</th>\n",
              "      <th>sit and bend forward_cm</th>\n",
              "      <th>sit-ups counts</th>\n",
              "      <th>broad jump_cm</th>\n",
              "      <th>CLASS</th>\n",
              "    </tr>\n",
              "  </thead>\n",
              "  <tbody>\n",
              "    <tr>\n",
              "      <th>0</th>\n",
              "      <td>27.0</td>\n",
              "      <td>0</td>\n",
              "      <td>172.3</td>\n",
              "      <td>75.24</td>\n",
              "      <td>21.3</td>\n",
              "      <td>80.0</td>\n",
              "      <td>130.0</td>\n",
              "      <td>54.9</td>\n",
              "      <td>18.4</td>\n",
              "      <td>60.0</td>\n",
              "      <td>217.0</td>\n",
              "      <td>3</td>\n",
              "    </tr>\n",
              "    <tr>\n",
              "      <th>1</th>\n",
              "      <td>25.0</td>\n",
              "      <td>0</td>\n",
              "      <td>165.0</td>\n",
              "      <td>55.80</td>\n",
              "      <td>15.7</td>\n",
              "      <td>77.0</td>\n",
              "      <td>126.0</td>\n",
              "      <td>36.4</td>\n",
              "      <td>16.3</td>\n",
              "      <td>53.0</td>\n",
              "      <td>229.0</td>\n",
              "      <td>1</td>\n",
              "    </tr>\n",
              "    <tr>\n",
              "      <th>2</th>\n",
              "      <td>31.0</td>\n",
              "      <td>0</td>\n",
              "      <td>179.6</td>\n",
              "      <td>78.00</td>\n",
              "      <td>20.1</td>\n",
              "      <td>92.0</td>\n",
              "      <td>152.0</td>\n",
              "      <td>44.8</td>\n",
              "      <td>12.0</td>\n",
              "      <td>49.0</td>\n",
              "      <td>181.0</td>\n",
              "      <td>3</td>\n",
              "    </tr>\n",
              "    <tr>\n",
              "      <th>3</th>\n",
              "      <td>32.0</td>\n",
              "      <td>0</td>\n",
              "      <td>174.5</td>\n",
              "      <td>71.10</td>\n",
              "      <td>18.4</td>\n",
              "      <td>76.0</td>\n",
              "      <td>147.0</td>\n",
              "      <td>41.4</td>\n",
              "      <td>15.2</td>\n",
              "      <td>53.0</td>\n",
              "      <td>219.0</td>\n",
              "      <td>2</td>\n",
              "    </tr>\n",
              "    <tr>\n",
              "      <th>4</th>\n",
              "      <td>28.0</td>\n",
              "      <td>0</td>\n",
              "      <td>173.8</td>\n",
              "      <td>67.70</td>\n",
              "      <td>17.1</td>\n",
              "      <td>70.0</td>\n",
              "      <td>127.0</td>\n",
              "      <td>43.5</td>\n",
              "      <td>27.1</td>\n",
              "      <td>45.0</td>\n",
              "      <td>217.0</td>\n",
              "      <td>2</td>\n",
              "    </tr>\n",
              "    <tr>\n",
              "      <th>...</th>\n",
              "      <td>...</td>\n",
              "      <td>...</td>\n",
              "      <td>...</td>\n",
              "      <td>...</td>\n",
              "      <td>...</td>\n",
              "      <td>...</td>\n",
              "      <td>...</td>\n",
              "      <td>...</td>\n",
              "      <td>...</td>\n",
              "      <td>...</td>\n",
              "      <td>...</td>\n",
              "      <td>...</td>\n",
              "    </tr>\n",
              "    <tr>\n",
              "      <th>13388</th>\n",
              "      <td>25.0</td>\n",
              "      <td>0</td>\n",
              "      <td>172.1</td>\n",
              "      <td>71.80</td>\n",
              "      <td>16.2</td>\n",
              "      <td>74.0</td>\n",
              "      <td>141.0</td>\n",
              "      <td>35.8</td>\n",
              "      <td>17.4</td>\n",
              "      <td>47.0</td>\n",
              "      <td>198.0</td>\n",
              "      <td>3</td>\n",
              "    </tr>\n",
              "    <tr>\n",
              "      <th>13389</th>\n",
              "      <td>21.0</td>\n",
              "      <td>0</td>\n",
              "      <td>179.7</td>\n",
              "      <td>63.90</td>\n",
              "      <td>12.1</td>\n",
              "      <td>74.0</td>\n",
              "      <td>128.0</td>\n",
              "      <td>33.0</td>\n",
              "      <td>1.1</td>\n",
              "      <td>48.0</td>\n",
              "      <td>167.0</td>\n",
              "      <td>4</td>\n",
              "    </tr>\n",
              "    <tr>\n",
              "      <th>13390</th>\n",
              "      <td>39.0</td>\n",
              "      <td>0</td>\n",
              "      <td>177.2</td>\n",
              "      <td>80.50</td>\n",
              "      <td>20.1</td>\n",
              "      <td>78.0</td>\n",
              "      <td>132.0</td>\n",
              "      <td>63.5</td>\n",
              "      <td>16.4</td>\n",
              "      <td>45.0</td>\n",
              "      <td>229.0</td>\n",
              "      <td>1</td>\n",
              "    </tr>\n",
              "    <tr>\n",
              "      <th>13391</th>\n",
              "      <td>64.0</td>\n",
              "      <td>1</td>\n",
              "      <td>146.1</td>\n",
              "      <td>57.70</td>\n",
              "      <td>40.4</td>\n",
              "      <td>68.0</td>\n",
              "      <td>121.0</td>\n",
              "      <td>19.3</td>\n",
              "      <td>9.2</td>\n",
              "      <td>0.0</td>\n",
              "      <td>75.0</td>\n",
              "      <td>4</td>\n",
              "    </tr>\n",
              "    <tr>\n",
              "      <th>13392</th>\n",
              "      <td>34.0</td>\n",
              "      <td>0</td>\n",
              "      <td>164.0</td>\n",
              "      <td>66.10</td>\n",
              "      <td>19.5</td>\n",
              "      <td>82.0</td>\n",
              "      <td>150.0</td>\n",
              "      <td>35.9</td>\n",
              "      <td>7.1</td>\n",
              "      <td>51.0</td>\n",
              "      <td>180.0</td>\n",
              "      <td>3</td>\n",
              "    </tr>\n",
              "  </tbody>\n",
              "</table>\n",
              "<p>13393 rows × 12 columns</p>\n",
              "</div>"
            ],
            "text/plain": [
              "        age gender  height_cm  weight_kg  body fat_%  diastolic  systolic  \\\n",
              "0      27.0      0      172.3      75.24        21.3       80.0     130.0   \n",
              "1      25.0      0      165.0      55.80        15.7       77.0     126.0   \n",
              "2      31.0      0      179.6      78.00        20.1       92.0     152.0   \n",
              "3      32.0      0      174.5      71.10        18.4       76.0     147.0   \n",
              "4      28.0      0      173.8      67.70        17.1       70.0     127.0   \n",
              "...     ...    ...        ...        ...         ...        ...       ...   \n",
              "13388  25.0      0      172.1      71.80        16.2       74.0     141.0   \n",
              "13389  21.0      0      179.7      63.90        12.1       74.0     128.0   \n",
              "13390  39.0      0      177.2      80.50        20.1       78.0     132.0   \n",
              "13391  64.0      1      146.1      57.70        40.4       68.0     121.0   \n",
              "13392  34.0      0      164.0      66.10        19.5       82.0     150.0   \n",
              "\n",
              "       gripForce  sit and bend forward_cm  sit-ups counts  broad jump_cm CLASS  \n",
              "0           54.9                     18.4            60.0          217.0     3  \n",
              "1           36.4                     16.3            53.0          229.0     1  \n",
              "2           44.8                     12.0            49.0          181.0     3  \n",
              "3           41.4                     15.2            53.0          219.0     2  \n",
              "4           43.5                     27.1            45.0          217.0     2  \n",
              "...          ...                      ...             ...            ...   ...  \n",
              "13388       35.8                     17.4            47.0          198.0     3  \n",
              "13389       33.0                      1.1            48.0          167.0     4  \n",
              "13390       63.5                     16.4            45.0          229.0     1  \n",
              "13391       19.3                      9.2             0.0           75.0     4  \n",
              "13392       35.9                      7.1            51.0          180.0     3  \n",
              "\n",
              "[13393 rows x 12 columns]"
            ]
          },
          "execution_count": 38,
          "metadata": {},
          "output_type": "execute_result"
        }
      ],
      "source": [
        "dt"
      ]
    },
    {
      "cell_type": "code",
      "execution_count": null,
      "id": "3d99d9b0",
      "metadata": {
        "id": "3d99d9b0",
        "outputId": "82cc4966-31b2-4622-dcfa-a1734b59be99"
      },
      "outputs": [
        {
          "data": {
            "text/plain": [
              "age                        0\n",
              "gender                     0\n",
              "height_cm                  0\n",
              "weight_kg                  0\n",
              "body fat_%                 0\n",
              "diastolic                  0\n",
              "systolic                   0\n",
              "gripForce                  0\n",
              "sit and bend forward_cm    0\n",
              "sit-ups counts             0\n",
              "broad jump_cm              0\n",
              "CLASS                      0\n",
              "dtype: int64"
            ]
          },
          "execution_count": 39,
          "metadata": {},
          "output_type": "execute_result"
        }
      ],
      "source": [
        "dt.isnull().sum()"
      ]
    },
    {
      "cell_type": "code",
      "execution_count": null,
      "id": "d7d4c39a",
      "metadata": {
        "id": "d7d4c39a",
        "outputId": "ba748979-a5f0-4427-e8d8-ddab300b79a2"
      },
      "outputs": [
        {
          "data": {
            "text/plain": [
              "(13393, 12)"
            ]
          },
          "execution_count": 40,
          "metadata": {},
          "output_type": "execute_result"
        }
      ],
      "source": [
        "dt.shape"
      ]
    },
    {
      "cell_type": "code",
      "execution_count": null,
      "id": "e2723cb8",
      "metadata": {
        "id": "e2723cb8"
      },
      "outputs": [],
      "source": [
        "from sklearn import preprocessing"
      ]
    },
    {
      "cell_type": "code",
      "execution_count": null,
      "id": "d0d97f49",
      "metadata": {
        "id": "d0d97f49",
        "outputId": "429cc00e-7db1-459d-896d-b887601aad86"
      },
      "outputs": [
        {
          "data": {
            "text/plain": [
              "array([2, 0, 2, ..., 0, 3, 2])"
            ]
          },
          "execution_count": 42,
          "metadata": {},
          "output_type": "execute_result"
        }
      ],
      "source": [
        "x=dt.iloc[:, :-1]\n",
        "y=dt.iloc[:,-1]\n",
        "ge = preprocessing.LabelEncoder()\n",
        "y = ge.fit_transform(y)\n",
        "y"
      ]
    },
    {
      "cell_type": "code",
      "execution_count": null,
      "id": "0d0a8c0c",
      "metadata": {
        "id": "0d0a8c0c"
      },
      "outputs": [],
      "source": [
        "from sklearn.preprocessing import StandardScaler\n",
        "\n",
        "scaler = StandardScaler()\n",
        "scaler.fit(x)\n",
        "x = scaler.transform(x)"
      ]
    },
    {
      "cell_type": "code",
      "execution_count": null,
      "id": "69fd1b93",
      "metadata": {
        "id": "69fd1b93"
      },
      "outputs": [],
      "source": [
        "from sklearn.model_selection import train_test_split\n",
        "x_train, x_test, y_train, y_test = train_test_split(x, y, test_size=0.2, random_state=1)"
      ]
    },
    {
      "cell_type": "code",
      "execution_count": null,
      "id": "a22e3dcc",
      "metadata": {
        "id": "a22e3dcc"
      },
      "outputs": [],
      "source": [
        "from sklearn.svm import SVC\n",
        "from sklearn.metrics import accuracy_score"
      ]
    },
    {
      "cell_type": "code",
      "execution_count": null,
      "id": "bfd9a001",
      "metadata": {
        "id": "bfd9a001"
      },
      "outputs": [],
      "source": [
        "l=[]\n",
        "d={1:'Linear_kernal',2:'RBF_kernal',3:'Polynomial_kernal',4:'Sigmoid'}"
      ]
    },
    {
      "cell_type": "code",
      "execution_count": null,
      "id": "614d5afd",
      "metadata": {
        "id": "614d5afd",
        "outputId": "5ba3a03d-aafc-479e-9234-0072a4ea9cc2"
      },
      "outputs": [
        {
          "name": "stdout",
          "output_type": "stream",
          "text": [
            "Accuracy Score:\n",
            "0.6136618141097424\n"
          ]
        }
      ],
      "source": [
        "svc=SVC(kernel='linear')\n",
        "svc.fit(x_train,y_train)\n",
        "y_pred=svc.predict(x_test)\n",
        "print('Accuracy Score:')\n",
        "print(accuracy_score(y_test,y_pred))\n",
        "l.append(accuracy_score(y_test,y_pred))"
      ]
    },
    {
      "cell_type": "code",
      "execution_count": null,
      "id": "3e6f6dd8",
      "metadata": {
        "id": "3e6f6dd8",
        "outputId": "4a15f0f8-9f02-43da-ec67-8bf57030c110"
      },
      "outputs": [
        {
          "name": "stdout",
          "output_type": "stream",
          "text": [
            "Accuracy Score:\n",
            "0.6842105263157895\n"
          ]
        }
      ],
      "source": [
        "svc1=SVC(kernel='rbf')\n",
        "svc1.fit(x_train,y_train)\n",
        "y_pred1=svc1.predict(x_test)\n",
        "print('Accuracy Score:')\n",
        "print(accuracy_score(y_test,y_pred1))\n",
        "l.append(accuracy_score(y_test,y_pred1))"
      ]
    },
    {
      "cell_type": "code",
      "execution_count": null,
      "id": "04c6c5fa",
      "metadata": {
        "id": "04c6c5fa",
        "outputId": "51eb6743-f005-44c6-d768-3dfe67ecbd6b"
      },
      "outputs": [
        {
          "name": "stdout",
          "output_type": "stream",
          "text": [
            "Accuracy Score:\n",
            "0.6274729376633073\n"
          ]
        }
      ],
      "source": [
        "svc2=SVC(kernel='poly')\n",
        "svc2.fit(x_train,y_train)\n",
        "y_pred2=svc2.predict(x_test)\n",
        "print('Accuracy Score:')\n",
        "print(accuracy_score(y_test,y_pred2))\n",
        "l.append(accuracy_score(y_test,y_pred2))"
      ]
    },
    {
      "cell_type": "code",
      "execution_count": null,
      "id": "8c720b8f",
      "metadata": {
        "id": "8c720b8f",
        "outputId": "24050524-c9cf-4e00-f392-8f609dc2043d"
      },
      "outputs": [
        {
          "name": "stdout",
          "output_type": "stream",
          "text": [
            "Accuracy Score:\n",
            "0.41172079134005224\n"
          ]
        }
      ],
      "source": [
        "svc3=SVC(kernel='sigmoid')\n",
        "svc3.fit(x_train,y_train)\n",
        "y_pred3=svc3.predict(x_test)\n",
        "print('Accuracy Score:')\n",
        "print(accuracy_score(y_test,y_pred3))\n",
        "l.append(accuracy_score(y_test,y_pred3))"
      ]
    },
    {
      "cell_type": "code",
      "execution_count": null,
      "id": "d3dddfb7",
      "metadata": {
        "id": "d3dddfb7",
        "outputId": "cf810f46-d8ca-4b13-bd76-ff7fe830da87"
      },
      "outputs": [
        {
          "data": {
            "text/plain": [
              "[0.6136618141097424,\n",
              " 0.6842105263157895,\n",
              " 0.6274729376633073,\n",
              " 0.41172079134005224]"
            ]
          },
          "execution_count": 51,
          "metadata": {},
          "output_type": "execute_result"
        }
      ],
      "source": [
        "l"
      ]
    },
    {
      "cell_type": "code",
      "execution_count": null,
      "id": "2cf24343",
      "metadata": {
        "id": "2cf24343",
        "outputId": "e33a3c88-4400-415e-fa52-56211eb897ef"
      },
      "outputs": [
        {
          "name": "stderr",
          "output_type": "stream",
          "text": [
            "No handles with labels found to put in legend.\n"
          ]
        },
        {
          "data": {
            "image/png": "[encoded data removed]",
            "text/plain": [
              "<Figure size 432x288 with 1 Axes>"
            ]
          },
          "metadata": {
            "needs_background": "light"
          },
          "output_type": "display_data"
        }
      ],
      "source": [
        "import matplotlib.pyplot as plt\n",
        "x1=[1,2,3,4]\n",
        "y1=l\n",
        "plt.plot(x1, y1)\n",
        "plt.xlabel('Kernals')\n",
        "plt.ylabel('Accuracy')\n",
        "plt.title('Accuracy of Kernals')\n",
        "plt.legend()\n",
        "plt.show()"
      ]
    },
    {
      "cell_type": "code",
      "execution_count": null,
      "id": "40e943d0",
      "metadata": {
        "id": "40e943d0"
      },
      "outputs": [],
      "source": []
    }
  ],
  "metadata": {
    "kernelspec": {
      "display_name": "Python 3",
      "language": "python",
      "name": "python3"
    },
    "language_info": {
      "codemirror_mode": {
        "name": "ipython",
        "version": 3
      },
      "file_extension": ".py",
      "mimetype": "text/x-python",
      "name": "python",
      "nbconvert_exporter": "python",
      "pygments_lexer": "ipython3",
      "version": "3.8.8"
    },
    "colab": {
      "provenance": [],
      "toc_visible": true
    }
  },
  "nbformat": 4,
  "nbformat_minor": 5
}